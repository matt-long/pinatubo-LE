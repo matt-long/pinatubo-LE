{
 "cells": [
  {
   "cell_type": "markdown",
   "id": "entire-influence",
   "metadata": {},
   "source": [
    "# Build the Catalog for the Pinatubo Files"
   ]
  },
  {
   "cell_type": "code",
   "execution_count": 1,
   "id": "numerical-sponsorship",
   "metadata": {},
   "outputs": [],
   "source": [
    "from ecgtools import Builder\n",
    "from ecgtools.parsers.cesm import parse_cesm_timeseries"
   ]
  },
  {
   "cell_type": "markdown",
   "id": "ready-vietnam",
   "metadata": {},
   "source": [
    "## Setup the Builder"
   ]
  },
  {
   "cell_type": "code",
   "execution_count": 3,
   "id": "ancient-homeless",
   "metadata": {},
   "outputs": [],
   "source": [
    "b = Builder(\n",
    "    \"/glade/campaign/univ/udeo0005/cesmLE_no_pinatubo/\",\n",
    "    depth=5,\n",
    "    exclude_patterns=[\"*/hist/*\", \"*/rest/*\"],\n",
    "    njobs=-1,\n",
    ")"
   ]
  },
  {
   "cell_type": "markdown",
   "id": "maritime-network",
   "metadata": {},
   "source": [
    "## Build the Catalog"
   ]
  },
  {
   "cell_type": "code",
   "execution_count": 4,
   "id": "shaped-vault",
   "metadata": {},
   "outputs": [
    {
     "name": "stderr",
     "output_type": "stream",
     "text": [
      "[Parallel(n_jobs=-1)]: Using backend LokyBackend with 72 concurrent workers.\n",
      "[Parallel(n_jobs=-1)]: Done   1 out of   1 | elapsed:    3.0s finished\n",
      "[Parallel(n_jobs=-1)]: Using backend LokyBackend with 72 concurrent workers.\n",
      "[Parallel(n_jobs=-1)]: Done  18 tasks      | elapsed:    2.0s\n",
      "[Parallel(n_jobs=-1)]: Done 144 tasks      | elapsed:    2.8s\n",
      "[Parallel(n_jobs=-1)]: Done 306 tasks      | elapsed:    3.6s\n",
      "[Parallel(n_jobs=-1)]: Done 504 tasks      | elapsed:    4.7s\n",
      "[Parallel(n_jobs=-1)]: Done 738 tasks      | elapsed:    5.8s\n",
      "[Parallel(n_jobs=-1)]: Done 1008 tasks      | elapsed:    7.2s\n",
      "[Parallel(n_jobs=-1)]: Done 1314 tasks      | elapsed:    8.9s\n",
      "[Parallel(n_jobs=-1)]: Done 1656 tasks      | elapsed:   10.7s\n",
      "[Parallel(n_jobs=-1)]: Done 2034 tasks      | elapsed:   12.8s\n",
      "[Parallel(n_jobs=-1)]: Done 2448 tasks      | elapsed:   14.9s\n",
      "[Parallel(n_jobs=-1)]: Done 2898 tasks      | elapsed:   17.2s\n",
      "[Parallel(n_jobs=-1)]: Done 3384 tasks      | elapsed:   19.9s\n",
      "[Parallel(n_jobs=-1)]: Done 3906 tasks      | elapsed:   22.4s\n",
      "[Parallel(n_jobs=-1)]: Done 4464 tasks      | elapsed:   24.9s\n",
      "[Parallel(n_jobs=-1)]: Done 5058 tasks      | elapsed:   27.7s\n",
      "[Parallel(n_jobs=-1)]: Done 5688 tasks      | elapsed:   30.5s\n",
      "[Parallel(n_jobs=-1)]: Done 6354 tasks      | elapsed:   33.5s\n",
      "[Parallel(n_jobs=-1)]: Done 7056 tasks      | elapsed:   36.7s\n",
      "[Parallel(n_jobs=-1)]: Done 7794 tasks      | elapsed:   40.2s\n",
      "[Parallel(n_jobs=-1)]: Done 8568 tasks      | elapsed:   43.8s\n",
      "[Parallel(n_jobs=-1)]: Done 9378 tasks      | elapsed:   47.6s\n",
      "[Parallel(n_jobs=-1)]: Done 10224 tasks      | elapsed:   52.2s\n",
      "[Parallel(n_jobs=-1)]: Done 11106 tasks      | elapsed:   56.6s\n",
      "[Parallel(n_jobs=-1)]: Done 12024 tasks      | elapsed:  1.0min\n",
      "[Parallel(n_jobs=-1)]: Done 12978 tasks      | elapsed:  1.1min\n",
      "[Parallel(n_jobs=-1)]: Done 13968 tasks      | elapsed:  1.2min\n",
      "[Parallel(n_jobs=-1)]: Done 14994 tasks      | elapsed:  1.2min\n",
      "[Parallel(n_jobs=-1)]: Done 16056 tasks      | elapsed:  1.3min\n",
      "[Parallel(n_jobs=-1)]: Done 17154 tasks      | elapsed:  1.4min\n",
      "[Parallel(n_jobs=-1)]: Done 18288 tasks      | elapsed:  1.5min\n",
      "[Parallel(n_jobs=-1)]: Done 19458 tasks      | elapsed:  1.6min\n",
      "[Parallel(n_jobs=-1)]: Done 20664 tasks      | elapsed:  1.7min\n",
      "[Parallel(n_jobs=-1)]: Done 21906 tasks      | elapsed:  1.8min\n",
      "[Parallel(n_jobs=-1)]: Done 23184 tasks      | elapsed:  1.9min\n",
      "[Parallel(n_jobs=-1)]: Done 24498 tasks      | elapsed:  2.0min\n",
      "[Parallel(n_jobs=-1)]: Done 25848 tasks      | elapsed:  2.1min\n",
      "[Parallel(n_jobs=-1)]: Done 27234 tasks      | elapsed:  2.7min\n",
      "[Parallel(n_jobs=-1)]: Done 28656 tasks      | elapsed:  2.7min\n",
      "[Parallel(n_jobs=-1)]: Done 30114 tasks      | elapsed:  2.8min\n",
      "[Parallel(n_jobs=-1)]: Done 32616 tasks      | elapsed:  3.0min\n",
      "[Parallel(n_jobs=-1)]: Done 35676 tasks      | elapsed:  3.2min\n",
      "[Parallel(n_jobs=-1)]: Done 38808 tasks      | elapsed:  3.4min\n",
      "[Parallel(n_jobs=-1)]: Done 42012 tasks      | elapsed:  3.6min\n",
      "[Parallel(n_jobs=-1)]: Done 45288 tasks      | elapsed:  3.8min\n",
      "[Parallel(n_jobs=-1)]: Done 48636 tasks      | elapsed:  4.0min\n",
      "[Parallel(n_jobs=-1)]: Done 50655 out of 50655 | elapsed:  4.1min finished\n",
      "/glade/work/mgrover/git_repos/ecgtools/ecgtools/builder.py:180: UserWarning: Unable to parse 2226 assets/files. A list of these assets can be found in `.invalid_assets` attribute.\n",
      "  parsing_func, parsing_func_kwargs\n"
     ]
    },
    {
     "data": {
      "text/plain": [
       "Builder(root_path=PosixPath('/glade/campaign/univ/udeo0005/cesmLE_no_pinatubo'), extension='.nc', depth=5, exclude_patterns=['*/hist/*', '*/rest/*'], njobs=-1)"
      ]
     },
     "execution_count": 4,
     "metadata": {},
     "output_type": "execute_result"
    }
   ],
   "source": [
    "b.build(parse_cesm_timeseries)"
   ]
  },
  {
   "cell_type": "markdown",
   "id": "neither-actress",
   "metadata": {},
   "source": [
    "## Save the Catalog"
   ]
  },
  {
   "cell_type": "code",
   "execution_count": 8,
   "id": "proprietary-latino",
   "metadata": {},
   "outputs": [
    {
     "name": "stdout",
     "output_type": "stream",
     "text": [
      "Saved catalog location: data/pinatubo-LE.json and data/pinatubo-LE.csv\n"
     ]
    },
    {
     "name": "stderr",
     "output_type": "stream",
     "text": [
      "/glade/u/home/mgrover/miniconda3/envs/hires-marbl/lib/python3.7/site-packages/ipykernel_launcher.py:17: UserWarning: Unable to parse 2226 assets/files. A list of these assets can be found in data/invalid_assets_pinatubo-LE.csv.\n"
     ]
    }
   ],
   "source": [
    "b.save(\n",
    "    'data/pinatubo-LE.csv',\n",
    "    \n",
    "    # Column name including filepath\n",
    "    path_column_name='path',\n",
    "    # Column name including variables\n",
    "    variable_column_name='variable',\n",
    "    # Data file format - could be netcdf or zarr (in this case, netcdf)\n",
    "    data_format=\"netcdf\",\n",
    "    # Which attributes to groupby when reading in variables using intake-esm\n",
    "    groupby_attrs=[\"component\", \"stream\", \"case\"],\n",
    "    # Aggregations which are fed into xarray when reading in data using intake\n",
    "    aggregations=[\n",
    "        {\n",
    "            \"type\": \"join_existing\",\n",
    "            \"attribute_name\": \"time_range\",\n",
    "            \"options\": {\"dim\": \"time\", \"coords\": \"minimal\", \"compat\": \"override\"},\n",
    "        }\n",
    "    ],\n",
    ")"
   ]
  },
  {
   "cell_type": "markdown",
   "id": "second-church",
   "metadata": {},
   "source": [
    "## Test the Catalog"
   ]
  },
  {
   "cell_type": "code",
   "execution_count": 9,
   "id": "naked-report",
   "metadata": {},
   "outputs": [],
   "source": [
    "import intake"
   ]
  },
  {
   "cell_type": "code",
   "execution_count": 10,
   "id": "likely-monster",
   "metadata": {},
   "outputs": [],
   "source": [
    "col = intake.open_esm_datastore('/glade/work/mgrover/intake-esm-catalogs/pinatubo-LE.json')"
   ]
  },
  {
   "cell_type": "code",
   "execution_count": 11,
   "id": "alpine-cooperative",
   "metadata": {},
   "outputs": [
    {
     "data": {
      "text/plain": [
       "array(['cam.h1', 'cam.h0', 'pop.h.ecosys.nday1', 'pop.h.nday1',\n",
       "       'pop.h.ecosys.nyear1', 'pop.h', 'clm2.h1', 'clm2.h0', 'rtm.h1',\n",
       "       'rtm.h0', 'cice.h1', 'cice.h'], dtype=object)"
      ]
     },
     "execution_count": 11,
     "metadata": {},
     "output_type": "execute_result"
    }
   ],
   "source": [
    "col.df.stream.unique()"
   ]
  },
  {
   "cell_type": "code",
   "execution_count": 12,
   "id": "appreciated-darkness",
   "metadata": {},
   "outputs": [],
   "source": [
    "cat = col.search(variable='TEMP', frequency='month_1')"
   ]
  },
  {
   "cell_type": "code",
   "execution_count": 13,
   "id": "swedish-manhattan",
   "metadata": {},
   "outputs": [
    {
     "name": "stdout",
     "output_type": "stream",
     "text": [
      "\n",
      "--> The keys in the returned dictionary of datasets are constructed as follows:\n",
      "\t'component.stream.case'\n"
     ]
    },
    {
     "data": {
      "text/html": [
       "\n",
       "    <div>\n",
       "        <style>\n",
       "            /* Turns off some styling */\n",
       "            progress {\n",
       "                /* gets rid of default border in Firefox and Opera. */\n",
       "                border: none;\n",
       "                /* Needs to be in here for Safari polyfill so background images work as expected. */\n",
       "                background-size: auto;\n",
       "            }\n",
       "            .progress-bar-interrupted, .progress-bar-interrupted::-webkit-progress-bar {\n",
       "                background: #F44336;\n",
       "            }\n",
       "        </style>\n",
       "      <progress value='50' class='' max='50' style='width:300px; height:20px; vertical-align: middle;'></progress>\n",
       "      100.00% [50/50 00:04<00:00]\n",
       "    </div>\n",
       "    "
      ],
      "text/plain": [
       "<IPython.core.display.HTML object>"
      ]
     },
     "metadata": {},
     "output_type": "display_data"
    }
   ],
   "source": [
    "dsets = cat.to_dataset_dict()"
   ]
  },
  {
   "cell_type": "code",
   "execution_count": 14,
   "id": "urban-rider",
   "metadata": {},
   "outputs": [
    {
     "data": {
      "text/plain": [
       "['ocn.pop.h.b.e11.B20TRC5CNBDRD_no_pinatubo.f09_g16.001',\n",
       " 'ocn.pop.h.b.e11.B20TRC5CNBDRD_no_pinatubo.f09_g16.002',\n",
       " 'ocn.pop.h.b.e11.B20TRC5CNBDRD_no_pinatubo.f09_g16.009',\n",
       " 'ocn.pop.h.b.e11.B20TRC5CNBDRD_no_pinatubo.f09_g16.010',\n",
       " 'ocn.pop.h.b.e11.B20TRC5CNBDRD_no_pinatubo.f09_g16.011',\n",
       " 'ocn.pop.h.b.e11.B20TRC5CNBDRD_no_pinatubo.f09_g16.012',\n",
       " 'ocn.pop.h.b.e11.B20TRC5CNBDRD_no_pinatubo.f09_g16.013',\n",
       " 'ocn.pop.h.b.e11.B20TRC5CNBDRD_no_pinatubo.f09_g16.014',\n",
       " 'ocn.pop.h.b.e11.B20TRC5CNBDRD_no_pinatubo.f09_g16.015',\n",
       " 'ocn.pop.h.b.e11.B20TRC5CNBDRD_no_pinatubo.f09_g16.016',\n",
       " 'ocn.pop.h.b.e11.B20TRC5CNBDRD_no_pinatubo.f09_g16.017',\n",
       " 'ocn.pop.h.b.e11.B20TRC5CNBDRD_no_pinatubo.f09_g16.018',\n",
       " 'ocn.pop.h.b.e11.B20TRC5CNBDRD_no_pinatubo.f09_g16.019',\n",
       " 'ocn.pop.h.b.e11.B20TRC5CNBDRD_no_pinatubo.f09_g16.020',\n",
       " 'ocn.pop.h.b.e11.B20TRC5CNBDRD_no_pinatubo.f09_g16.021',\n",
       " 'ocn.pop.h.b.e11.B20TRC5CNBDRD_no_pinatubo.f09_g16.022',\n",
       " 'ocn.pop.h.b.e11.B20TRC5CNBDRD_no_pinatubo.f09_g16.023',\n",
       " 'ocn.pop.h.b.e11.B20TRC5CNBDRD_no_pinatubo.f09_g16.024',\n",
       " 'ocn.pop.h.b.e11.B20TRC5CNBDRD_no_pinatubo.f09_g16.025',\n",
       " 'ocn.pop.h.b.e11.B20TRC5CNBDRD_no_pinatubo.f09_g16.026',\n",
       " 'ocn.pop.h.b.e11.B20TRC5CNBDRD_no_pinatubo.f09_g16.027',\n",
       " 'ocn.pop.h.b.e11.B20TRC5CNBDRD_no_pinatubo.f09_g16.028',\n",
       " 'ocn.pop.h.b.e11.B20TRC5CNBDRD_no_pinatubo.f09_g16.029',\n",
       " 'ocn.pop.h.b.e11.B20TRC5CNBDRD_no_pinatubo.f09_g16.030',\n",
       " 'ocn.pop.h.b.e11.B20TRC5CNBDRD_no_pinatubo.f09_g16.031',\n",
       " 'ocn.pop.h.b.e11.BRCP85C5CNBDRD_no_pinatubo.f09_g16.001',\n",
       " 'ocn.pop.h.b.e11.BRCP85C5CNBDRD_no_pinatubo.f09_g16.002',\n",
       " 'ocn.pop.h.b.e11.BRCP85C5CNBDRD_no_pinatubo.f09_g16.009',\n",
       " 'ocn.pop.h.b.e11.BRCP85C5CNBDRD_no_pinatubo.f09_g16.010',\n",
       " 'ocn.pop.h.b.e11.BRCP85C5CNBDRD_no_pinatubo.f09_g16.011',\n",
       " 'ocn.pop.h.b.e11.BRCP85C5CNBDRD_no_pinatubo.f09_g16.012',\n",
       " 'ocn.pop.h.b.e11.BRCP85C5CNBDRD_no_pinatubo.f09_g16.013',\n",
       " 'ocn.pop.h.b.e11.BRCP85C5CNBDRD_no_pinatubo.f09_g16.014',\n",
       " 'ocn.pop.h.b.e11.BRCP85C5CNBDRD_no_pinatubo.f09_g16.015',\n",
       " 'ocn.pop.h.b.e11.BRCP85C5CNBDRD_no_pinatubo.f09_g16.016',\n",
       " 'ocn.pop.h.b.e11.BRCP85C5CNBDRD_no_pinatubo.f09_g16.017',\n",
       " 'ocn.pop.h.b.e11.BRCP85C5CNBDRD_no_pinatubo.f09_g16.018',\n",
       " 'ocn.pop.h.b.e11.BRCP85C5CNBDRD_no_pinatubo.f09_g16.019',\n",
       " 'ocn.pop.h.b.e11.BRCP85C5CNBDRD_no_pinatubo.f09_g16.020',\n",
       " 'ocn.pop.h.b.e11.BRCP85C5CNBDRD_no_pinatubo.f09_g16.021',\n",
       " 'ocn.pop.h.b.e11.BRCP85C5CNBDRD_no_pinatubo.f09_g16.022',\n",
       " 'ocn.pop.h.b.e11.BRCP85C5CNBDRD_no_pinatubo.f09_g16.023',\n",
       " 'ocn.pop.h.b.e11.BRCP85C5CNBDRD_no_pinatubo.f09_g16.024',\n",
       " 'ocn.pop.h.b.e11.BRCP85C5CNBDRD_no_pinatubo.f09_g16.025',\n",
       " 'ocn.pop.h.b.e11.BRCP85C5CNBDRD_no_pinatubo.f09_g16.026',\n",
       " 'ocn.pop.h.b.e11.BRCP85C5CNBDRD_no_pinatubo.f09_g16.027',\n",
       " 'ocn.pop.h.b.e11.BRCP85C5CNBDRD_no_pinatubo.f09_g16.028',\n",
       " 'ocn.pop.h.b.e11.BRCP85C5CNBDRD_no_pinatubo.f09_g16.029',\n",
       " 'ocn.pop.h.b.e11.BRCP85C5CNBDRD_no_pinatubo.f09_g16.030',\n",
       " 'ocn.pop.h.b.e11.BRCP85C5CNBDRD_no_pinatubo.f09_g16.031']"
      ]
     },
     "execution_count": 14,
     "metadata": {},
     "output_type": "execute_result"
    }
   ],
   "source": [
    "sorted(list(dsets))"
   ]
  },
  {
   "cell_type": "markdown",
   "id": "d71c1294-7fbd-4c86-82ef-e5a54b00eee1",
   "metadata": {},
   "source": [
    "---"
   ]
  },
  {
   "cell_type": "markdown",
   "id": "d9281fdc-6ffe-45f7-b121-e341d5d94e5c",
   "metadata": {},
   "source": [
    "## Re-run of original forcing on Cheyenne"
   ]
  },
  {
   "cell_type": "code",
   "execution_count": 23,
   "id": "a60fd851-93ed-4b94-8ac8-f0e9ee6253a4",
   "metadata": {},
   "outputs": [],
   "source": [
    "b = Builder(\n",
    "    \"/glade/campaign/univ/udeo0005/cesmLE_cheyenne\",\n",
    "    depth=5,\n",
    "    exclude_patterns=[\"*/hist/*\", \"*/rest/*\", \"*/restarts/*\"],\n",
    "    njobs=-1,\n",
    ")"
   ]
  },
  {
   "cell_type": "code",
   "execution_count": 24,
   "id": "c7b8613c-0599-4f74-95d2-fe0c0e932c9e",
   "metadata": {},
   "outputs": [
    {
     "name": "stderr",
     "output_type": "stream",
     "text": [
      "[Parallel(n_jobs=-1)]: Using backend LokyBackend with 72 concurrent workers.\n",
      "[Parallel(n_jobs=-1)]: Done   1 out of   1 | elapsed:    0.2s finished\n",
      "[Parallel(n_jobs=-1)]: Using backend LokyBackend with 72 concurrent workers.\n",
      "[Parallel(n_jobs=-1)]: Done  18 tasks      | elapsed:    0.2s\n",
      "[Parallel(n_jobs=-1)]: Done 144 tasks      | elapsed:    0.7s\n",
      "[Parallel(n_jobs=-1)]: Done 306 tasks      | elapsed:    1.3s\n",
      "[Parallel(n_jobs=-1)]: Done 504 tasks      | elapsed:    2.0s\n",
      "[Parallel(n_jobs=-1)]: Done 738 tasks      | elapsed:    2.8s\n",
      "[Parallel(n_jobs=-1)]: Done 1008 tasks      | elapsed:    3.8s\n",
      "[Parallel(n_jobs=-1)]: Done 1314 tasks      | elapsed:    5.0s\n",
      "[Parallel(n_jobs=-1)]: Done 1656 tasks      | elapsed:    6.3s\n",
      "[Parallel(n_jobs=-1)]: Done 2034 tasks      | elapsed:    7.8s\n",
      "[Parallel(n_jobs=-1)]: Done 2448 tasks      | elapsed:    9.5s\n",
      "[Parallel(n_jobs=-1)]: Done 2898 tasks      | elapsed:   11.1s\n",
      "[Parallel(n_jobs=-1)]: Done 3384 tasks      | elapsed:   12.4s\n",
      "[Parallel(n_jobs=-1)]: Done 3906 tasks      | elapsed:   13.9s\n",
      "[Parallel(n_jobs=-1)]: Done 4464 tasks      | elapsed:   15.8s\n",
      "[Parallel(n_jobs=-1)]: Done 4910 out of 4910 | elapsed:   17.1s finished\n"
     ]
    },
    {
     "data": {
      "text/plain": [
       "Builder(root_path=PosixPath('/glade/campaign/univ/udeo0005/cesmLE_cheyenne'), extension='.nc', depth=5, exclude_patterns=['*/hist/*', '*/rest/*', '*/restarts/*'], njobs=-1)"
      ]
     },
     "execution_count": 24,
     "metadata": {},
     "output_type": "execute_result"
    }
   ],
   "source": [
    "b.build(parse_cesm_timeseries)"
   ]
  },
  {
   "cell_type": "code",
   "execution_count": 26,
   "id": "60d08968-fe68-4e4b-b1d2-cb6dc9ac759e",
   "metadata": {},
   "outputs": [
    {
     "name": "stdout",
     "output_type": "stream",
     "text": [
      "Saved catalog location: data/cesmLE-cheyenne.json and data/cesmLE-cheyenne.csv\n"
     ]
    }
   ],
   "source": [
    "b.save(\n",
    "    'data/cesmLE-cheyenne.csv',\n",
    "    \n",
    "    # Column name including filepath\n",
    "    path_column_name='path',\n",
    "    # Column name including variables\n",
    "    variable_column_name='variable',\n",
    "    # Data file format - could be netcdf or zarr (in this case, netcdf)\n",
    "    data_format=\"netcdf\",\n",
    "    # Which attributes to groupby when reading in variables using intake-esm\n",
    "    groupby_attrs=[\"component\", \"stream\", \"case\"],\n",
    "    # Aggregations which are fed into xarray when reading in data using intake\n",
    "    aggregations=[\n",
    "        {\n",
    "            \"type\": \"join_existing\",\n",
    "            \"attribute_name\": \"time_range\",\n",
    "            \"options\": {\"dim\": \"time\", \"coords\": \"minimal\", \"compat\": \"override\"},\n",
    "        }\n",
    "    ],\n",
    ")"
   ]
  },
  {
   "cell_type": "markdown",
   "id": "101b5054-f678-452e-8a58-53e5662d15ab",
   "metadata": {},
   "source": [
    "---\n",
    "## Rebuild catalog for `CESM-CAM5-BGC-LE`"
   ]
  },
  {
   "cell_type": "code",
   "execution_count": 27,
   "id": "42cfa98d-4c2d-4449-a44d-8a643da830bd",
   "metadata": {},
   "outputs": [],
   "source": [
    "b = Builder(\n",
    "    \"/glade/campaign/cesm/collections/cesmLE/CESM-CAM5-BGC-LE\",\n",
    "    depth=5,\n",
    "    exclude_patterns=[\"*/hist/*\", \"*/rest/*\", \"*/restarts/*\"],\n",
    "    njobs=-1,\n",
    ")"
   ]
  },
  {
   "cell_type": "code",
   "execution_count": null,
   "id": "80c2f492-2f51-4af9-8551-e424fca42121",
   "metadata": {},
   "outputs": [],
   "source": [
    "b.build(parse_cesm_timeseries)"
   ]
  },
  {
   "cell_type": "code",
   "execution_count": null,
   "id": "964432b1-8835-4dfc-b8c3-a5ba8703663b",
   "metadata": {},
   "outputs": [],
   "source": []
  }
 ],
 "metadata": {
  "kernelspec": {
   "display_name": "Python [conda env:miniconda3-hires-marbl]",
   "language": "python",
   "name": "conda-env-miniconda3-hires-marbl-py"
  },
  "language_info": {
   "codemirror_mode": {
    "name": "ipython",
    "version": 3
   },
   "file_extension": ".py",
   "mimetype": "text/x-python",
   "name": "python",
   "nbconvert_exporter": "python",
   "pygments_lexer": "ipython3",
   "version": "3.7.10"
  }
 },
 "nbformat": 4,
 "nbformat_minor": 5
}
